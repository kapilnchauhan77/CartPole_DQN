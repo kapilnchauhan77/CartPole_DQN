{
  "nbformat": 4,
  "nbformat_minor": 0,
  "metadata": {
    "colab": {
      "name": "CartPole-v0.ipynb",
      "provenance": [],
      "collapsed_sections": [],
      "machine_shape": "hm",
      "include_colab_link": true
    },
    "kernelspec": {
      "name": "python3",
      "display_name": "Python 3"
    },
    "accelerator": "GPU"
  },
  "cells": [
    {
      "cell_type": "markdown",
      "metadata": {
        "id": "view-in-github",
        "colab_type": "text"
      },
      "source": [
        "<a href=\"https://colab.research.google.com/github/kapilnchauhan77/CartPole_DQN/blob/master/CartPole_v0.ipynb\" target=\"_parent\"><img src=\"https://colab.research.google.com/assets/colab-badge.svg\" alt=\"Open In Colab\"/></a>"
      ]
    },
    {
      "cell_type": "markdown",
      "metadata": {
        "id": "oAcpo20urFfD",
        "colab_type": "text"
      },
      "source": [
        "# Trainging a deep Q neural network to balance"
      ]
    },
    {
      "cell_type": "markdown",
      "metadata": {
        "id": "eRTGeUZtpzd6",
        "colab_type": "text"
      },
      "source": [
        "##Checking Tensorflow Version"
      ]
    },
    {
      "cell_type": "code",
      "metadata": {
        "id": "0S1rkj9rBb2l",
        "colab_type": "code",
        "outputId": "3dafeee0-a6dc-4cfe-d936-d2bee71c4052",
        "colab": {
          "base_uri": "https://localhost:8080/",
          "height": 34
        }
      },
      "source": [
        "import tensorflow as tf\n",
        "tf.__version__"
      ],
      "execution_count": 4,
      "outputs": [
        {
          "output_type": "execute_result",
          "data": {
            "text/plain": [
              "'1.15.0'"
            ]
          },
          "metadata": {
            "tags": []
          },
          "execution_count": 4
        }
      ]
    },
    {
      "cell_type": "markdown",
      "metadata": {
        "id": "zk3y1F-pp5nr",
        "colab_type": "text"
      },
      "source": [
        "##Mish Activation function, courtesy of https://arxiv.org/ftp/arxiv/papers/1908/1908.08681.pdf"
      ]
    },
    {
      "cell_type": "code",
      "metadata": {
        "id": "cLlTdT6FARDQ",
        "colab_type": "code",
        "colab": {}
      },
      "source": [
        "from keras.engine.base_layer import Layer\n",
        "from __future__ import absolute_import\n",
        "from __future__ import division\n",
        "from __future__ import print_function\n",
        "from tensorflow.keras.layers import Activation\n",
        "from keras.utils.generic_utils import get_custom_objects\n",
        "import tensorflow.keras.backend as K\n",
        "\n",
        "class Mish(Activation):\n",
        "    '''\n",
        "    Mish Activation Function.\n",
        "    .. math::\n",
        "        mish(x) = x * tanh(softplus(x)) = x * tanh(ln(1 + e^{x}))\n",
        "    Shape:\n",
        "        - Input: Arbitrary. Use the keyword argument `input_shape`\n",
        "        (tuple of integers, does not include the samples axis)\n",
        "        when using this layer as the first layer in a model.\n",
        "        - Output: Same shape as the input.\n",
        "    Examples:\n",
        "        >>> X = Activation('Mish', name=\"conv1_act\")(X_input)\n",
        "    '''\n",
        "\n",
        "    def __init__(self, activation, **kwargs):\n",
        "        super(Mish, self).__init__(activation, **kwargs)\n",
        "        self.__name__ = 'Mish'\n",
        "\n",
        "\n",
        "def mish(x):\n",
        "    return x*K.tanh(K.softplus(x))\n",
        "\n",
        "get_custom_objects().update({'Mish': Mish(mish)})"
      ],
      "execution_count": 0,
      "outputs": []
    },
    {
      "cell_type": "markdown",
      "metadata": {
        "id": "3CnXavnGqa-o",
        "colab_type": "text"
      },
      "source": [
        "##Importing dependencies, making environment and defining variables"
      ]
    },
    {
      "cell_type": "code",
      "metadata": {
        "id": "fxLV28Pzrbm2",
        "colab_type": "code",
        "colab": {}
      },
      "source": [
        "import gym\n",
        "import numpy as np\n",
        "from tensorflow.keras.models import Sequential\n",
        "from tensorflow.keras.layers import Activation, Dense\n",
        "from tensorflow.keras.optimizers import Adam\n",
        "from collections import deque\n",
        "import random\n",
        "import matplotlib.pyplot as plt"
      ],
      "execution_count": 0,
      "outputs": []
    },
    {
      "cell_type": "code",
      "metadata": {
        "id": "ZDOGJcGxuMsz",
        "colab_type": "code",
        "colab": {}
      },
      "source": [
        "env = gym.make('CartPole-v0')\n",
        "\n",
        "seed = 2\n",
        "env.seed(seed)\n",
        "random.seed(seed)\n",
        "np.random.seed(seed)\n",
        "\n",
        "EPISODES = 1000\n",
        "DIM = len(env.observation_space.high)\n",
        "DISCOUNT = 0.99\n",
        "SHOW_AT = 100\n",
        "show = False\n",
        "BATCH_SIZE = 32\n",
        "\n",
        "epsilon = 0.99\n",
        "EPSILON_DECAY = 0.99\n",
        "MIN_EPSILON = 0.01\n",
        "\n",
        "memory = deque(maxlen=10000)\n",
        "batch = deque(maxlen=BATCH_SIZE)\n",
        "scores = deque(maxlen=100)\n",
        "episode_rewards = []\n",
        "avg_scores = []\n",
        "\n",
        "task_complete = False"
      ],
      "execution_count": 0,
      "outputs": []
    },
    {
      "cell_type": "markdown",
      "metadata": {
        "id": "YyqsN6ixqiru",
        "colab_type": "text"
      },
      "source": [
        "##Defining model class, helper functions and building the models"
      ]
    },
    {
      "cell_type": "code",
      "metadata": {
        "id": "dCn9u5ZHuRDr",
        "colab_type": "code",
        "colab": {}
      },
      "source": [
        "class Model:\n",
        "  def __init__(self):\n",
        "    self.model = self.create_model()\n",
        "\n",
        "  def create_model(self):\n",
        "    model = Sequential()\n",
        "\n",
        "    model.add(Dense(128, input_dim=len(env.observation_space.high), kernel_initializer='he_normal'))\n",
        "    model.add(Mish(mish))\n",
        "    # model.add(Activation('softplus'))\n",
        "\n",
        "    model.add(Dense(64, kernel_initializer='he_normal'))\n",
        "    model.add(Mish(mish))\n",
        "    # model.add(Activation('tanh'))\n",
        "\n",
        "    model.add(Dense(64, kernel_initializer='he_normal'))\n",
        "    model.add(Mish(mish))\n",
        "    # model.add(Activation('tanh'))\n",
        "\n",
        "    model.add(Dense(env.action_space.n, kernel_initializer='he_normal'))\n",
        "    # model.add(Activation('softmax'))\n",
        "\n",
        "    model.compile(loss='mse', optimizer=Adam())\n",
        "    return model\n",
        "  \n",
        "  def get_action(self, state):\n",
        "    return np.argmax(self.predict(state)) if np.random.random() > epsilon else np.random.randint(env.action_space.n)\n",
        "\n",
        "  def train(self, x_train, y_train):\n",
        "    return self.model.train_on_batch(x_train, y_train)\n",
        "  \n",
        "  def predict(self, x):\n",
        "    return self.model.predict(x)\n",
        "  \n",
        "  def get_weights(self):\n",
        "    return self.model.get_weights()\n",
        "\n",
        "  def set_weights(self, other):\n",
        "    return self.model.set_weights(other.model.get_weights())\n",
        "  \n",
        "  def summary(self):\n",
        "    return self.model.summary()"
      ],
      "execution_count": 0,
      "outputs": []
    },
    {
      "cell_type": "code",
      "metadata": {
        "id": "pke49x5w2KRF",
        "colab_type": "code",
        "outputId": "66561ed4-52e2-4ba0-da4c-58b10cbbd05b",
        "colab": {
          "base_uri": "https://localhost:8080/",
          "height": 391
        }
      },
      "source": [
        "model = Model()\n",
        "target_model = Model()\n",
        "model.summary()"
      ],
      "execution_count": 0,
      "outputs": [
        {
          "output_type": "stream",
          "text": [
            "Model: \"sequential_3\"\n",
            "_________________________________________________________________\n",
            "Layer (type)                 Output Shape              Param #   \n",
            "=================================================================\n",
            "dense_9 (Dense)              (None, 128)               640       \n",
            "_________________________________________________________________\n",
            "mish_8 (Mish)                (None, 128)               0         \n",
            "_________________________________________________________________\n",
            "dense_10 (Dense)             (None, 64)                8256      \n",
            "_________________________________________________________________\n",
            "mish_9 (Mish)                (None, 64)                0         \n",
            "_________________________________________________________________\n",
            "dense_11 (Dense)             (None, 64)                4160      \n",
            "_________________________________________________________________\n",
            "mish_10 (Mish)               (None, 64)                0         \n",
            "_________________________________________________________________\n",
            "dense_12 (Dense)             (None, 2)                 130       \n",
            "=================================================================\n",
            "Total params: 13,186\n",
            "Trainable params: 13,186\n",
            "Non-trainable params: 0\n",
            "_________________________________________________________________\n"
          ],
          "name": "stdout"
        }
      ]
    },
    {
      "cell_type": "code",
      "metadata": {
        "id": "Pz6x5pytLDe3",
        "colab_type": "code",
        "colab": {}
      },
      "source": [
        "def get_state(st):\n",
        "  return np.reshape(st, (1, len(env.observation_space.high)))"
      ],
      "execution_count": 0,
      "outputs": []
    },
    {
      "cell_type": "code",
      "metadata": {
        "id": "Q9ScaQdTQWOJ",
        "colab_type": "code",
        "colab": {}
      },
      "source": [
        "def train_the_model():\n",
        "  if len(memory) < 1000:\n",
        "    return\n",
        "\n",
        "  batch = random.sample(memory,min(len(memory), BATCH_SIZE))\n",
        "\n",
        "  x=[]\n",
        "  y=[]\n",
        "  for state, action, reward, next_state, done in batch:\n",
        "    max_future_q = np.max(target_model.predict(next_state))\n",
        "    new_q = reward + DISCOUNT * max_future_q * np.invert(done)\n",
        "\n",
        "    current_q = model.predict(get_state(state))\n",
        "    current_q[0][action] = new_q\n",
        "\n",
        "    x.append(state)\n",
        "    # print(f\"x:{len(x)}\")\n",
        "    y.append(current_q)\n",
        "    # print(f\"y:{len(y)}\")\n",
        "\n",
        "  x = np.reshape(np.array(x), (-1, len(env.observation_space.high)))\n",
        "  y = np.reshape(np.array(y), (-1, 2))\n",
        "  model.train(x, y)"
      ],
      "execution_count": 0,
      "outputs": []
    },
    {
      "cell_type": "markdown",
      "metadata": {
        "id": "14KhKUkUqyAm",
        "colab_type": "text"
      },
      "source": [
        "##Training, accomplished the goal at 4th Episode!!! "
      ]
    },
    {
      "cell_type": "code",
      "metadata": {
        "colab_type": "code",
        "id": "B_P4pOxljNPe",
        "colab": {
          "base_uri": "https://localhost:8080/",
          "height": 1000
        },
        "outputId": "7105c0f5-05ec-4a2c-a688-31f6b31c293b"
      },
      "source": [
        "for episode in range(EPISODES):\n",
        "\n",
        "  if not (episode % SHOW_AT):\n",
        "    show = True\n",
        "  else:\n",
        "    show = False\n",
        "\n",
        "  episode_reward = 0\n",
        "  state = get_state(env.reset())\n",
        "  \n",
        "  done = False\n",
        "  while not done:\n",
        "\n",
        "      action = model.get_action(state)\n",
        "      next_st, reward, done, _ = env.step(action)\n",
        "      next_state = get_state(next_st)\n",
        "      episode_reward += reward\n",
        "\n",
        "      memory.append((state, action, reward if not done else -100, next_state, done))\n",
        "      train_the_model()\n",
        "\n",
        "      if epsilon > MIN_EPSILON:\n",
        "        epsilon *= EPSILON_DECAY\n",
        "      \n",
        "      state = next_state\n",
        "      \n",
        "      if show:\n",
        "        env.render()\n",
        "\n",
        "      if done:\n",
        "        env.reset()\n",
        "        target_model.set_weights(model)\n",
        "        episode_rewards.append(episode_reward)\n",
        "        scores.append(episode_reward)\n",
        "        avg_score = np.mean(scores)\n",
        "        avg_scores.append(avg_scores)\n",
        "\n",
        "        if not task_complete and avg_score >= 195 and episode >= 100:\n",
        "          solution_episode = next(x[0] for x in enumerate(episode_rewards) if x[1] >= 195) \n",
        "          print(f\"Solved at episode no. {solution_episode}\")\n",
        "          task_complete = True\n",
        "        \n",
        "        if not (episode % 10):\n",
        "          print(f\"Episode: {episode}:- average reward = {avg_score}, max reward till now = {np.max(episode_rewards)}\")"
      ],
      "execution_count": 0,
      "outputs": [
        {
          "output_type": "stream",
          "text": [
            "Episode: 0:- average reward = 10.0, max reward till now = 10.0\n",
            "Episode: 10:- average reward = 109.27272727272727, max reward till now = 353.0\n",
            "Episode: 20:- average reward = 96.42857142857143, max reward till now = 362.0\n",
            "Episode: 30:- average reward = 137.51612903225808, max reward till now = 460.0\n",
            "Episode: 40:- average reward = 150.8048780487805, max reward till now = 460.0\n",
            "Episode: 50:- average reward = 157.2549019607843, max reward till now = 460.0\n",
            "Episode: 60:- average reward = 173.11475409836066, max reward till now = 460.0\n",
            "Episode: 70:- average reward = 183.2394366197183, max reward till now = 500.0\n",
            "Episode: 80:- average reward = 182.19753086419752, max reward till now = 500.0\n",
            "Episode: 90:- average reward = 202.56043956043956, max reward till now = 500.0\n",
            "Solved at episode no. 4\n",
            "Episode: 100:- average reward = 205.31, max reward till now = 500.0\n",
            "Episode: 110:- average reward = 207.35, max reward till now = 500.0\n",
            "Episode: 120:- average reward = 213.15, max reward till now = 500.0\n",
            "Episode: 130:- average reward = 205.36, max reward till now = 500.0\n",
            "Episode: 140:- average reward = 204.42, max reward till now = 500.0\n",
            "Episode: 150:- average reward = 216.19, max reward till now = 500.0\n",
            "Episode: 160:- average reward = 234.73, max reward till now = 500.0\n",
            "Episode: 170:- average reward = 236.27, max reward till now = 500.0\n",
            "Episode: 180:- average reward = 252.93, max reward till now = 500.0\n",
            "Episode: 190:- average reward = 261.25, max reward till now = 500.0\n",
            "Episode: 200:- average reward = 290.17, max reward till now = 500.0\n",
            "Episode: 210:- average reward = 321.98, max reward till now = 500.0\n",
            "Episode: 220:- average reward = 352.18, max reward till now = 500.0\n",
            "Episode: 230:- average reward = 385.08, max reward till now = 500.0\n",
            "Episode: 240:- average reward = 413.86, max reward till now = 500.0\n",
            "Episode: 250:- average reward = 423.53, max reward till now = 500.0\n",
            "Episode: 260:- average reward = 397.78, max reward till now = 500.0\n",
            "Episode: 270:- average reward = 398.84, max reward till now = 500.0\n",
            "Episode: 280:- average reward = 380.99, max reward till now = 500.0\n",
            "Episode: 290:- average reward = 348.69, max reward till now = 500.0\n",
            "Episode: 300:- average reward = 310.34, max reward till now = 500.0\n",
            "Episode: 310:- average reward = 276.1, max reward till now = 500.0\n",
            "Episode: 320:- average reward = 243.48, max reward till now = 500.0\n",
            "Episode: 330:- average reward = 230.92, max reward till now = 500.0\n",
            "Episode: 340:- average reward = 233.88, max reward till now = 500.0\n",
            "Episode: 350:- average reward = 240.42, max reward till now = 500.0\n",
            "Episode: 360:- average reward = 260.87, max reward till now = 500.0\n",
            "Episode: 370:- average reward = 282.45, max reward till now = 500.0\n",
            "Episode: 380:- average reward = 311.88, max reward till now = 500.0\n",
            "Episode: 390:- average reward = 342.45, max reward till now = 500.0\n",
            "Episode: 400:- average reward = 372.73, max reward till now = 500.0\n",
            "Episode: 410:- average reward = 407.5, max reward till now = 500.0\n",
            "Episode: 420:- average reward = 441.21, max reward till now = 500.0\n",
            "Episode: 430:- average reward = 443.18, max reward till now = 500.0\n",
            "Episode: 440:- average reward = 442.78, max reward till now = 500.0\n",
            "Episode: 450:- average reward = 439.21, max reward till now = 500.0\n",
            "Episode: 460:- average reward = 443.12, max reward till now = 500.0\n",
            "Episode: 470:- average reward = 437.69, max reward till now = 500.0\n",
            "Episode: 480:- average reward = 436.73, max reward till now = 500.0\n",
            "Episode: 490:- average reward = 443.39, max reward till now = 500.0\n",
            "Episode: 500:- average reward = 451.46, max reward till now = 500.0\n",
            "Episode: 510:- average reward = 452.8, max reward till now = 500.0\n",
            "Episode: 520:- average reward = 438.02, max reward till now = 500.0\n",
            "Episode: 530:- average reward = 446.88, max reward till now = 500.0\n",
            "Episode: 540:- average reward = 433.72, max reward till now = 500.0\n",
            "Episode: 550:- average reward = 438.16, max reward till now = 500.0\n",
            "Episode: 560:- average reward = 420.19, max reward till now = 500.0\n",
            "Episode: 570:- average reward = 396.23, max reward till now = 500.0\n",
            "Episode: 580:- average reward = 396.31, max reward till now = 500.0\n",
            "Episode: 590:- average reward = 391.92, max reward till now = 500.0\n",
            "Episode: 600:- average reward = 391.92, max reward till now = 500.0\n",
            "Episode: 610:- average reward = 377.28, max reward till now = 500.0\n",
            "Episode: 620:- average reward = 389.09, max reward till now = 500.0\n",
            "Episode: 630:- average reward = 391.57, max reward till now = 500.0\n",
            "Episode: 640:- average reward = 405.13, max reward till now = 500.0\n",
            "Episode: 650:- average reward = 407.91, max reward till now = 500.0\n",
            "Episode: 660:- average reward = 433.33, max reward till now = 500.0\n",
            "Episode: 670:- average reward = 459.78, max reward till now = 500.0\n",
            "Episode: 680:- average reward = 463.84, max reward till now = 500.0\n",
            "Episode: 690:- average reward = 464.46, max reward till now = 500.0\n",
            "Episode: 700:- average reward = 462.6, max reward till now = 500.0\n",
            "Episode: 710:- average reward = 479.6, max reward till now = 500.0\n",
            "Episode: 720:- average reward = 487.25, max reward till now = 500.0\n",
            "Episode: 730:- average reward = 486.41, max reward till now = 500.0\n",
            "Episode: 740:- average reward = 468.08, max reward till now = 500.0\n",
            "Episode: 750:- average reward = 458.2, max reward till now = 500.0\n",
            "Episode: 760:- average reward = 424.77, max reward till now = 500.0\n",
            "Episode: 770:- average reward = 404.92, max reward till now = 500.0\n",
            "Episode: 780:- average reward = 399.52, max reward till now = 500.0\n",
            "Episode: 790:- average reward = 403.29, max reward till now = 500.0\n",
            "Episode: 800:- average reward = 405.15, max reward till now = 500.0\n",
            "Episode: 810:- average reward = 404.55, max reward till now = 500.0\n",
            "Episode: 820:- average reward = 404.55, max reward till now = 500.0\n",
            "Episode: 830:- average reward = 391.32, max reward till now = 500.0\n",
            "Episode: 840:- average reward = 405.09, max reward till now = 500.0\n",
            "Episode: 850:- average reward = 414.97, max reward till now = 500.0\n",
            "Episode: 860:- average reward = 448.4, max reward till now = 500.0\n",
            "Episode: 870:- average reward = 472.51, max reward till now = 500.0\n",
            "Episode: 880:- average reward = 474.2, max reward till now = 500.0\n",
            "Episode: 890:- average reward = 436.46, max reward till now = 500.0\n",
            "Episode: 900:- average reward = 424.15, max reward till now = 500.0\n",
            "Episode: 910:- average reward = 420.32, max reward till now = 500.0\n",
            "Episode: 920:- average reward = 419.91, max reward till now = 500.0\n",
            "Episode: 930:- average reward = 432.09, max reward till now = 500.0\n",
            "Episode: 940:- average reward = 425.99, max reward till now = 500.0\n",
            "Episode: 950:- average reward = 417.29, max reward till now = 500.0\n",
            "Episode: 960:- average reward = 381.77, max reward till now = 500.0\n",
            "Episode: 970:- average reward = 349.11, max reward till now = 500.0\n",
            "Episode: 980:- average reward = 347.48, max reward till now = 500.0\n",
            "Episode: 990:- average reward = 383.99, max reward till now = 500.0\n"
          ],
          "name": "stdout"
        }
      ]
    }
  ]
}
